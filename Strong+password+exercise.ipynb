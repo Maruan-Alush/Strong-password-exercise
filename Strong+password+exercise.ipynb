{
 "cells": [
  {
   "cell_type": "code",
   "execution_count": 1,
   "metadata": {},
   "outputs": [
    {
     "name": "stdout",
     "output_type": "stream",
     "text": [
      "Please input your password:SmilePlease\n",
      "Your final password is: 5m1leplea5e11\n"
     ]
    }
   ],
   "source": [
    "password = str.lower(input('Please input your password:'))\n",
    "password = list(password)\n",
    "#The above code takes the input of the user and makes it all lower case for simplicity later on and changes the input to a list\n",
    "iTimes = password.count('i')\n",
    "sTimes = password.count('s')\n",
    "#Both variable check how many times i and s appear in the password\n",
    "while iTimes != 0:\n",
    "  iPosition = password.index('i')\n",
    "  password.insert(iPosition, '1')\n",
    "  password.remove('i')\n",
    "  iTimes = iTimes - 1\n",
    "  #This while loop runs as many times as i appears in the password and replaces i with 1\n",
    "while sTimes != 0:\n",
    "  sPosition = password.index('s')\n",
    "  password.insert(sPosition, '5')\n",
    "  password.remove('s')\n",
    "  sTimes = sTimes - 1\n",
    "  #This while loop runs as many times as s appears in the password and replaces s with 5\n",
    "password = ''.join(password)\n",
    "print('Your final password is: ', password,len(password), sep='')\n",
    "#These final lines turn the list back into a string for easier outputting and add the lenght of the password to the end \n",
    "#The sep='' removes the space that the print function places between the password and the lenght"
   ]
  },
  {
   "cell_type": "code",
   "execution_count": null,
   "metadata": {},
   "outputs": [],
   "source": []
  }
 ],
 "metadata": {
  "kernelspec": {
   "display_name": "Python 3",
   "language": "python",
   "name": "python3"
  },
  "language_info": {
   "codemirror_mode": {
    "name": "ipython",
    "version": 3
   },
   "file_extension": ".py",
   "mimetype": "text/x-python",
   "name": "python",
   "nbconvert_exporter": "python",
   "pygments_lexer": "ipython3",
   "version": "3.5.2"
  }
 },
 "nbformat": 4,
 "nbformat_minor": 2
}
